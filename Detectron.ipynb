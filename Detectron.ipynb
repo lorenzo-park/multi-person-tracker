{
 "cells": [
  {
   "cell_type": "code",
   "execution_count": 1,
   "metadata": {},
   "outputs": [],
   "source": [
    "import torch"
   ]
  },
  {
   "cell_type": "code",
   "execution_count": 2,
   "metadata": {},
   "outputs": [
    {
     "name": "stdout",
     "output_type": "stream",
     "text": [
      "Reading package lists... Done\n",
      "Building dependency tree       \n",
      "Reading state information... Done\n",
      "ffmpeg is already the newest version (7:3.4.8-0ubuntu0.2).\n",
      "The following packages were automatically installed and are no longer required:\n",
      "  gyp libc-ares2 libhttp-parser2.7.1 libjs-async libjs-inherits\n",
      "  libjs-node-uuid libjs-underscore libuv1-dev node-abbrev node-ansi\n",
      "  node-ansi-color-table node-archy node-async node-balanced-match\n",
      "  node-block-stream node-brace-expansion node-builtin-modules\n",
      "  node-combined-stream node-concat-map node-cookie-jar node-delayed-stream\n",
      "  node-forever-agent node-form-data node-fs.realpath node-fstream\n",
      "  node-fstream-ignore node-github-url-from-git node-glob node-graceful-fs\n",
      "  node-hosted-git-info node-inflight node-inherits node-ini\n",
      "  node-is-builtin-module node-isexe node-json-stringify-safe node-lockfile\n",
      "  node-lru-cache node-mime node-minimatch node-mkdirp node-mute-stream\n",
      "  node-node-uuid node-nopt node-normalize-package-data node-npmlog node-once\n",
      "  node-osenv node-path-is-absolute node-pseudomap node-qs node-read\n",
      "  node-read-package-json node-request node-retry node-rimraf node-semver\n",
      "  node-sha node-slide node-spdx-correct node-spdx-expression-parse\n",
      "  node-spdx-license-ids node-tar node-tunnel-agent node-underscore\n",
      "  node-validate-npm-package-license node-which node-wrappy node-yallist nodejs\n",
      "  nodejs-doc\n",
      "Use 'apt autoremove' to remove them.\n",
      "0 upgraded, 0 newly installed, 0 to remove and 148 not upgraded.\n"
     ]
    }
   ],
   "source": [
    "!apt-get install -y ffmpeg "
   ]
  },
  {
   "cell_type": "code",
   "execution_count": 3,
   "metadata": {},
   "outputs": [],
   "source": [
    "import os\n",
    "import numpy as np\n",
    "import cv2\n",
    "import shutil\n",
    "\n",
    "from detectron2.config import get_cfg\n",
    "from predictor import VisualizationDemo\n",
    "from multi_person_tracker import MPT\n",
    "from multi_person_tracker.data import video_to_images"
   ]
  },
  {
   "cell_type": "code",
   "execution_count": 4,
   "metadata": {},
   "outputs": [],
   "source": [
    "import xml.etree.ElementTree as elemTree"
   ]
  },
  {
   "cell_type": "code",
   "execution_count": 5,
   "metadata": {},
   "outputs": [],
   "source": [
    "%matplotlib inline\n",
    "from matplotlib import pyplot as plt"
   ]
  },
  {
   "cell_type": "code",
   "execution_count": 6,
   "metadata": {},
   "outputs": [],
   "source": [
    "PATH = \"../data/103-6\""
   ]
  },
  {
   "cell_type": "code",
   "execution_count": 7,
   "metadata": {},
   "outputs": [],
   "source": [
    "def init_cfg():\n",
    "    # load config from file and command-line arguments\n",
    "    cfg = get_cfg()\n",
    "    cfg.merge_from_file(\"../detectron2/configs/COCO-Keypoints/keypoint_rcnn_R_101_FPN_3x.yaml\")\n",
    "    cfg.MODEL.WEIGHTS = \"detectron2://COCO-Keypoints/keypoint_rcnn_R_101_FPN_3x/138363331/model_final_997cc7.pkl\"\n",
    "    # Set score_threshold for builtin models\n",
    "    cfg.MODEL.RETINANET.SCORE_THRESH_TEST = 0.5\n",
    "    cfg.MODEL.ROI_HEADS.SCORE_THRESH_TEST = 0.5\n",
    "    cfg.MODEL.PANOPTIC_FPN.COMBINE.INSTANCES_CONFIDENCE_THRESH = 0.5\n",
    "    cfg.freeze()\n",
    "    return cfg"
   ]
  },
  {
   "cell_type": "code",
   "execution_count": 8,
   "metadata": {},
   "outputs": [],
   "source": [
    "def get_xmls(PATH):\n",
    "    filenames = []\n",
    "    for filename in os.listdir(PATH):\n",
    "        if filename[-4:] == \".xml\":\n",
    "            filenames.append(filename)\n",
    "    return filenames"
   ]
  },
  {
   "cell_type": "code",
   "execution_count": 9,
   "metadata": {},
   "outputs": [],
   "source": [
    "def get_frame(cap, frame_num):\n",
    "    cap.set(cv2.CAP_PROP_POS_FRAMES, frame_num)\n",
    "    return cap.read()\n",
    "\n",
    "\n",
    "def get_frames_with_5fps(cap, frame_start, frame_end, fps, resize=True):\n",
    "    if fps % 5 != 0:\n",
    "        print(\"wrong frame num\")\n",
    "        return None\n",
    "    \n",
    "    frame_step = int(fps / 5)\n",
    "    \n",
    "    frames = []\n",
    "    i = 0\n",
    "    while(True):\n",
    "        sample_frame_num = frame_start + i * frame_step\n",
    "        if sample_frame_num > frame_end:\n",
    "            break\n",
    "        _, frame = get_frame(cap, sample_frame_num)\n",
    "        if resize:\n",
    "            frame = cv2.resize(frame, dsize=(960, 540))\n",
    "        frame = cv2.cvtColor(frame, cv2.COLOR_BGR2RGB)\n",
    "        frames.append(frame)\n",
    "        i += 1\n",
    "    return frames\n",
    "\n",
    "def plot_frame(frame, keypoint_coord=None):\n",
    "    plt.imshow(frame)\n",
    "    if keypoint_coord is not None:\n",
    "        plt.scatter(keypoint_coord[0], keypoint_coord[1], marker=\"o\")\n",
    "    plt.show()"
   ]
  },
  {
   "cell_type": "code",
   "execution_count": 10,
   "metadata": {},
   "outputs": [],
   "source": [
    "filenames = get_xmls(PATH)"
   ]
  },
  {
   "cell_type": "code",
   "execution_count": null,
   "metadata": {},
   "outputs": [
    {
     "name": "stdout",
     "output_type": "stream",
     "text": [
      "103-6_cam01_swoon01_place04_day_summer.mp4\n",
      "fps 30 frames 8568\n",
      "width: 3840 height: 2160\n",
      "[(6316, 6682), (6682, 6980)]\n",
      "keyframe 6316, coord: (2276, 879)\n"
     ]
    },
    {
     "name": "stderr",
     "output_type": "stream",
     "text": [
      "model_final_997cc7.pkl:  79%|███████▉  | 248M/313M [00:18<00:11, 5.61MB/s]   "
     ]
    }
   ],
   "source": [
    "xml_filename = filenames[1]\n",
    "tree = elemTree.parse(os.path.join(PATH, xml_filename))\n",
    "video_filename = tree.find(\"filename\").text\n",
    "cap = cv2.VideoCapture(os.path.join(PATH, video_filename))\n",
    "print(video_filename)\n",
    "\n",
    "# Frame per second\n",
    "fps = int(tree.find(\"header\").find(\"fps\").text)\n",
    "frames = int(tree.find(\"header\").find(\"frames\").text)\n",
    "print(f\"fps {fps} frames {frames}\")\n",
    "\n",
    "# Frame width, height\n",
    "width = tree.find(\"size\").find(\"width\").text\n",
    "height = tree.find(\"size\").find(\"height\").text\n",
    "print(f\"width: {width} height: {height}\")\n",
    "\n",
    "# Frame start, end pairs of fall down action\n",
    "action_ranges = []\n",
    "action_frames = tree.find(\"object\").find(\"action\").findall(\"frame\")\n",
    "for action_frame in action_frames:\n",
    "    action_ranges.append((int(action_frame.find(\"start\").text), \n",
    "                          int(action_frame.find(\"end\").text)))\n",
    "print(action_ranges)\n",
    "\n",
    "# Keyframe information, keyframe number and ground truth coordinate\n",
    "keyframe = int(tree.find(\"object\").find(\"position\").find(\"keyframe\").text)\n",
    "keypoint = tree.find(\"object\").find(\"position\").find(\"keypoint\")\n",
    "keypoint_coord = (int(keypoint.find(\"x\").text), int(keypoint.find(\"y\").text))\n",
    "\n",
    "print(f\"keyframe {keyframe}, coord: {keypoint_coord}\")\n",
    "\n",
    "#     # Show keyframe\n",
    "#     _, frame = get_frame(cap, keyframe)\n",
    "#     print(frame.shape)\n",
    "#     plot_frame(frame, keypoint_coord)\n",
    "\n",
    "# # Show all frames in the first action range\n",
    "# frames = get_frames_with_5fps(cap, action_ranges[0][0], action_ranges[0][1], fps=fps)\n",
    "# print(len(frames))\n",
    "# # input_frames = torch.Tensor(frames)\n",
    "# for frame in frames[-100:]:\n",
    "#     plot_frame(frame)\n",
    "\n",
    "# Object detection from detectron\n",
    "frames = get_frames_with_5fps(cap, action_ranges[0][0], action_ranges[0][1], fps=fps)\n",
    "cfg = init_cfg()\n",
    "demo = VisualizationDemo(cfg)\n",
    "for idx, frame in enumerate(frames):\n",
    "    predictions, visualized_output = demo.run_on_image(frame)\n",
    "#     plot_frame(visualized_output.get_image()[:, :, ::-1], keypoint_coord)\n",
    "    visualized_output.save(f\"./output/keyframe_{video_filename}_{idx}_keypoints.jpg\")\n",
    "#     print(predictions)"
   ]
  },
  {
   "cell_type": "code",
   "execution_count": null,
   "metadata": {},
   "outputs": [],
   "source": [
    "# def inference(path, event_range_tuple):\n",
    "#     imgsz = 960\n",
    "#     mot = MPT(\n",
    "#         display=True,\n",
    "#         detector_type='yolo',  # 'maskrcnn'\n",
    "#         batch_size=1,\n",
    "#         detection_threshold=0.7,\n",
    "#         yolo_img_size=imgsz,\n",
    "#     )\n",
    "#     image_folder = video_to_images(path, event_range_tuple=event_range_tuple)\n",
    "#     result = mot(image_folder, output_file='sample.mp4')\n",
    "    \n",
    "# #     shutil.rmtree(image_folder)\n",
    "    \n",
    "#     return result"
   ]
  },
  {
   "cell_type": "code",
   "execution_count": null,
   "metadata": {},
   "outputs": [],
   "source": [
    "# xml_filename = filenames[0]\n",
    "# tree = elemTree.parse(os.path.join(PATH, xml_filename))\n",
    "# video_filename = tree.find(\"filename\").text\n",
    "# ss = tree.find(\"event\").find(\"starttime\").text\n",
    "# t = tree.find(\"event\").find(\"duration\").text\n",
    "# image_folder = os.path.join(PATH, video_filename)\n",
    "# result = inference(image_folder, (ss, t))"
   ]
  },
  {
   "cell_type": "code",
   "execution_count": null,
   "metadata": {},
   "outputs": [],
   "source": []
  }
 ],
 "metadata": {
  "kernelspec": {
   "display_name": "Python 3",
   "language": "python",
   "name": "python3"
  },
  "language_info": {
   "codemirror_mode": {
    "name": "ipython",
    "version": 3
   },
   "file_extension": ".py",
   "mimetype": "text/x-python",
   "name": "python",
   "nbconvert_exporter": "python",
   "pygments_lexer": "ipython3",
   "version": "3.6.9"
  }
 },
 "nbformat": 4,
 "nbformat_minor": 4
}
